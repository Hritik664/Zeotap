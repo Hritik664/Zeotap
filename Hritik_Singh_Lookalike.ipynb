{
 "cells": [
  {
   "cell_type": "code",
   "execution_count": 7,
   "id": "3c86f27a-063e-4477-b022-b87d33363d98",
   "metadata": {},
   "outputs": [],
   "source": [
    "#import\n",
    "import pandas as pd\n",
    "from sklearn.preprocessing import OneHotEncoder, MinMaxScaler\n",
    "from sklearn.metrics.pairwise import cosine_similarity"
   ]
  },
  {
   "cell_type": "code",
   "execution_count": 8,
   "id": "146c40cf-164f-459f-b1af-d9cf23006c5c",
   "metadata": {},
   "outputs": [],
   "source": [
    "# Load datasets\n",
    "customers = pd.read_csv('Customers.csv')\n",
    "transactions = pd.read_csv('Transactions.csv')"
   ]
  },
  {
   "cell_type": "code",
   "execution_count": 9,
   "id": "6bf59de4-79c5-4ff3-b218-4edf33e7a8df",
   "metadata": {},
   "outputs": [],
   "source": [
    "# Merge datasets on CustomerID\n",
    "data = pd.merge(transactions, customers, on='CustomerID')"
   ]
  },
  {
   "cell_type": "code",
   "execution_count": 10,
   "id": "94c6038a-6807-4a56-b89a-a65e72810405",
   "metadata": {},
   "outputs": [],
   "source": [
    "# Feature engineering (aggregate transaction history)\n",
    "agg_data = data.groupby('CustomerID').agg({\n",
    "    'ProductID': lambda x: list(x),  # List of products purchased\n",
    "    'TotalValue': 'sum',            # Total spending\n",
    "    'Quantity': 'sum',              # Total quantity purchased\n",
    "    'TransactionDate': 'count'      # Number of transactions\n",
    "}).reset_index()"
   ]
  },
  {
   "cell_type": "code",
   "execution_count": 11,
   "id": "51993d01-c85d-4601-b361-56286c9615e5",
   "metadata": {},
   "outputs": [],
   "source": [
    "# Merge aggregated data back with customer attributes\n",
    "final_data = pd.merge(customers, agg_data, on='CustomerID')"
   ]
  },
  {
   "cell_type": "code",
   "execution_count": 12,
   "id": "640ed95b-a360-4d13-ba85-502f11fc9f68",
   "metadata": {},
   "outputs": [],
   "source": [
    "# Encode categorical variables\n",
    "encoder = OneHotEncoder(sparse_output=False)  # Updated parameter\n",
    "categorical_features = ['Region']  # Add more as needed\n",
    "encoded_data = encoder.fit_transform(final_data[categorical_features])"
   ]
  },
  {
   "cell_type": "code",
   "execution_count": 13,
   "id": "924398cc-3ce7-44ee-89b9-790a34bf480e",
   "metadata": {},
   "outputs": [],
   "source": [
    "# Combine with numerical features\n",
    "numerical_features = ['TotalValue', 'Quantity', 'TransactionDate']\n",
    "numerical_data = final_data[numerical_features].values"
   ]
  },
  {
   "cell_type": "code",
   "execution_count": 14,
   "id": "d6121dc6-99ff-4503-a66e-eb931697230c",
   "metadata": {},
   "outputs": [],
   "source": [
    "# Concatenate features\n",
    "feature_matrix = pd.concat([pd.DataFrame(encoded_data), pd.DataFrame(numerical_data)], axis=1)"
   ]
  },
  {
   "cell_type": "code",
   "execution_count": 15,
   "id": "e4612547-303e-4220-9908-eb8553533a23",
   "metadata": {},
   "outputs": [],
   "source": [
    "# Normalize the feature matrix\n",
    "scaler = MinMaxScaler()\n",
    "feature_matrix = scaler.fit_transform(feature_matrix)"
   ]
  },
  {
   "cell_type": "code",
   "execution_count": 16,
   "id": "f625310e-490e-4d16-9b75-34e6f31cc7b9",
   "metadata": {},
   "outputs": [],
   "source": [
    "# Compute similarity matrix\n",
    "similarity_matrix = cosine_similarity(feature_matrix)"
   ]
  },
  {
   "cell_type": "code",
   "execution_count": 17,
   "id": "d70aa702-6051-4a51-bfd9-1bdd23b13e0f",
   "metadata": {},
   "outputs": [],
   "source": [
    "# Create recommendations\n",
    "lookalike_map = {}\n",
    "for idx, cust_id in enumerate(final_data['CustomerID']):\n",
    "    # Get similarity scores for the current customer\n",
    "    similarity_scores = list(enumerate(similarity_matrix[idx]))\n",
    "    \n",
    "    # Exclude the customer themselves and sort by similarity score\n",
    "    top_similar = sorted(\n",
    "        [s for s in similarity_scores if s[0] != idx], \n",
    "        key=lambda x: x[1], \n",
    "        reverse=True\n",
    "    )[:3]\n",
    "    \n",
    "    # Map CustomerID to top similar customers and their scores\n",
    "    lookalike_map[cust_id] = [(final_data['CustomerID'].iloc[t[0]], round(t[1], 4)) for t in top_similar]"
   ]
  },
  {
   "cell_type": "code",
   "execution_count": 18,
   "id": "ab50a14a-ce0e-4d1d-a6e8-ac6e740d4274",
   "metadata": {},
   "outputs": [
    {
     "name": "stdout",
     "output_type": "stream",
     "text": [
      "Lookalike.csv created successfully!\n"
     ]
    }
   ],
   "source": [
    "# Convert to DataFrame and save as Lookalike.csv\n",
    "lookalike_df = pd.DataFrame([\n",
    "    {'cust_id': k, 'similar_customers': v} for k, v in lookalike_map.items()\n",
    "])\n",
    "lookalike_df.to_csv('Lookalike.csv', index=False)\n",
    "\n",
    "print(\"Lookalike.csv created successfully!\")"
   ]
  },
  {
   "cell_type": "code",
   "execution_count": null,
   "id": "b2c1a47e-837a-4ed4-9b2f-490ea495a260",
   "metadata": {},
   "outputs": [],
   "source": []
  }
 ],
 "metadata": {
  "kernelspec": {
   "display_name": "Python 3 (ipykernel)",
   "language": "python",
   "name": "python3"
  },
  "language_info": {
   "codemirror_mode": {
    "name": "ipython",
    "version": 3
   },
   "file_extension": ".py",
   "mimetype": "text/x-python",
   "name": "python",
   "nbconvert_exporter": "python",
   "pygments_lexer": "ipython3",
   "version": "3.12.5"
  }
 },
 "nbformat": 4,
 "nbformat_minor": 5
}
